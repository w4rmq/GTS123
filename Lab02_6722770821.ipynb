{
  "nbformat": 4,
  "nbformat_minor": 0,
  "metadata": {
    "colab": {
      "provenance": []
    },
    "kernelspec": {
      "name": "python3",
      "display_name": "Python 3"
    },
    "language_info": {
      "name": "python"
    }
  },
  "cells": [
    {
      "cell_type": "markdown",
      "source": [
        "Question 1"
      ],
      "metadata": {
        "id": "1L2jfFr9e9m2"
      }
    },
    {
      "cell_type": "code",
      "execution_count": 3,
      "metadata": {
        "id": "fPJPOUNsHT76",
        "colab": {
          "base_uri": "https://localhost:8080/"
        },
        "outputId": "b5ad2cbb-1521-432d-e753-74629de81ff6"
      },
      "outputs": [
        {
          "output_type": "stream",
          "name": "stdout",
          "text": [
            "Enter amount of melted chocolate to be poured into the cup (ml): 110\n",
            "Enter amount of milk to be poured into the cup (ml): 65\n",
            "Now Emmy's cup is filled with 175.00 ml (or about 5.91 oz) of chocolate milk.\n"
          ]
        }
      ],
      "source": [
        "chocolate = float(input(\"Enter amount of melted chocolate to be poured into the cup (ml): \"))\n",
        "milk = float(input(\"Enter amount of milk to be poured into the cup (ml): \"))\n",
        "sum = chocolate + milk\n",
        "print(f\"Now Emmy's cup is filled with {sum:.2f} ml (or about {sum * 0.0338:.2f} oz) of chocolate milk.\")"
      ]
    },
    {
      "cell_type": "markdown",
      "source": [
        "Question 2"
      ],
      "metadata": {
        "id": "hP6flPaWfCp1"
      }
    },
    {
      "cell_type": "code",
      "source": [
        "x = float(input(\"Enter x: \"))\n",
        "y = float(input(\"Enter y: \"))\n",
        "\n",
        "area_triangle = 1/2 * x * (y - 0.8 * y)\n",
        "area_rectangle = 0.8 * y * x / 2\n",
        "total_area = area_rectangle + area_triangle\n",
        "\n",
        "print(f\"Total area of the shape is {total_area:.2f} square units.\")"
      ],
      "metadata": {
        "colab": {
          "base_uri": "https://localhost:8080/"
        },
        "id": "oVGmwm2NVaWw",
        "outputId": "48c50b82-13c7-4472-9b25-c2048262acf6"
      },
      "execution_count": 18,
      "outputs": [
        {
          "output_type": "stream",
          "name": "stdout",
          "text": [
            "Enter x: 10\n",
            "Enter y: 20\n",
            "Total area of the shape is 100.00 square units.\n"
          ]
        }
      ]
    },
    {
      "cell_type": "markdown",
      "source": [
        "Question 3"
      ],
      "metadata": {
        "id": "JwwbsJVffEuv"
      }
    },
    {
      "cell_type": "code",
      "source": [
        "radius = float(input(\"Input Radius (cm) = \"))\n",
        "height = float(input(\"Input Height (cm) = \"))\n",
        "\n",
        "PI = 3.1415926535\n",
        "volume = PI * radius ** 2 * height\n",
        "\n",
        "print(f\"The volume of cylinder is {volume:.5f} cubic centimeter.\")"
      ],
      "metadata": {
        "colab": {
          "base_uri": "https://localhost:8080/"
        },
        "id": "x16QvcNpWXfB",
        "outputId": "2c352204-b28b-4a5f-d04b-ba859b6e5325"
      },
      "execution_count": 7,
      "outputs": [
        {
          "output_type": "stream",
          "name": "stdout",
          "text": [
            "Input Radius (cm) = 0\n",
            "Input Height (cm) = 20\n",
            "The volume of cylinder is 0.00000 cubic centimeter.\n"
          ]
        }
      ]
    },
    {
      "cell_type": "markdown",
      "source": [
        "Question 4"
      ],
      "metadata": {
        "id": "6a-u48P5fG6Y"
      }
    },
    {
      "cell_type": "code",
      "source": [
        "full_score = float(input(\"Input Full Score = \"))\n",
        "real_score = float(input(\"Input Real Score = \"))\n",
        "\n",
        "percentage = real_score / full_score * 100\n",
        "\n",
        "print(f'''----------------------------\n",
        "--- Calculate Percentage ---\n",
        "----------------------------\n",
        "Full Score: {full_score:.2f}\n",
        "Real Score: {real_score:.2f}\n",
        "----------------------------\n",
        "Percentage: {percentage:.2f}%\n",
        "----------------------------''')\n"
      ],
      "metadata": {
        "colab": {
          "base_uri": "https://localhost:8080/"
        },
        "id": "FsnovzQHXWY8",
        "outputId": "0df25be2-83f6-436e-aed7-237ce6def851"
      },
      "execution_count": 10,
      "outputs": [
        {
          "output_type": "stream",
          "name": "stdout",
          "text": [
            "Input Full Score = 1.5\n",
            "Input Real Score = 400.4\n",
            "----------------------------\n",
            "--- Calculate Percentage ---\n",
            "----------------------------\n",
            "Full Score: 1.50\n",
            "Real Score: 400.40\n",
            "----------------------------\n",
            "Percentage: 26693.33%\n",
            "----------------------------\n"
          ]
        }
      ]
    },
    {
      "cell_type": "markdown",
      "source": [
        "Question 5"
      ],
      "metadata": {
        "id": "qqV_nSKFfNcm"
      }
    },
    {
      "cell_type": "code",
      "source": [
        "four_digit = int(input(\"Enter a four-digit integer: \"))\n",
        "\n",
        "first_two = four_digit // 100\n",
        "last_two = four_digit - (first_two * 100)\n",
        "\n",
        "print(f\"The result of {first_two} + {last_two} = {first_two + last_two}\")\n",
        "print(f\"The result of {first_two} - {last_two} = {first_two - last_two}\")\n",
        "print(f\"The integer value of {first_two}/{last_two} = {first_two // last_two}\")\n",
        "print(f\"The remainder of {first_two}/{last_two} = {first_two - (first_two//last_two * last_two)}\")"
      ],
      "metadata": {
        "colab": {
          "base_uri": "https://localhost:8080/"
        },
        "id": "ia6-feDpZCeL",
        "outputId": "b62a7511-ecaa-42e6-f37e-3c8aa66e21e8"
      },
      "execution_count": 15,
      "outputs": [
        {
          "output_type": "stream",
          "name": "stdout",
          "text": [
            "Enter a four-digit integer: 9876\n",
            "The result of 98 + 76 = 174\n",
            "The result of 98 - 76 = 22\n",
            "The integer value of 98/76 = 1\n",
            "The remainder of 98/76 = 22\n"
          ]
        }
      ]
    },
    {
      "cell_type": "markdown",
      "source": [
        "Question 6"
      ],
      "metadata": {
        "id": "Jia5HqqhfQQO"
      }
    },
    {
      "cell_type": "code",
      "source": [
        "a = float(input(\"Enter the 1st number: \"))\n",
        "b = float(input(\"Enter the 2nd number: \"))\n",
        "c = float(input(\"Enter the 3rd number: \"))\n",
        "\n",
        "print(f\"a,b,c = {a:.2f}, {b:.2f}, {c:.2f}\")\n",
        "print(f\"The average of three integers = {(a + b + c) / 3:.2f}\")\n",
        "print(f\"The summation of three integers = {a + b + c:.2f}\")\n",
        "print(f\"The multiplicationof three integers = {a * b * c:.2f}\")"
      ],
      "metadata": {
        "colab": {
          "base_uri": "https://localhost:8080/"
        },
        "id": "lqqkJmGkdB-p",
        "outputId": "94c385f4-608a-4637-c466-700bac11e594"
      },
      "execution_count": 24,
      "outputs": [
        {
          "output_type": "stream",
          "name": "stdout",
          "text": [
            "Enter the 1st number: 101\n",
            "Enter the 2nd number: 202\n",
            "Enter the 3rd number: 404\n",
            "a,b,c = 101.00, 202.00, 404.00\n",
            "The average of three integers = 235.67\n",
            "The summation of three integers = 707.00\n",
            "The multiplicationof three integers = 8242408.00\n"
          ]
        }
      ]
    },
    {
      "cell_type": "markdown",
      "source": [
        "Question 7"
      ],
      "metadata": {
        "id": "9yvLnyo-fPYm"
      }
    },
    {
      "cell_type": "code",
      "source": [
        "weight = float(input(\"Enter your weight in kg.: \"))\n",
        "height = float(input(\"Enter your height in cm.: \"))\n",
        "\n",
        "weight_pound = weight * 2.20462262\n",
        "height_feet = height * 0.032808399\n",
        "\n",
        "print(\"Your weight in pounds = %.2f\" % weight_pound)\n",
        "print(\"Your height in feet = %.2f\" % height_feet)"
      ],
      "metadata": {
        "colab": {
          "base_uri": "https://localhost:8080/"
        },
        "id": "KZ3RNTZFfTjc",
        "outputId": "0ff2d36f-2e9d-4426-ab1d-2b2e9a7e9efb"
      },
      "execution_count": 28,
      "outputs": [
        {
          "output_type": "stream",
          "name": "stdout",
          "text": [
            "Enter your weight in kg.: 60\n",
            "Enter your height in cm.: 170\n",
            "Your weight in pounds = 132.28\n",
            "Your height in feet = 5.58\n"
          ]
        }
      ]
    },
    {
      "cell_type": "markdown",
      "source": [
        "Question 8"
      ],
      "metadata": {
        "id": "jVSw7Du1hyM8"
      }
    },
    {
      "cell_type": "code",
      "source": [
        "first_num = int(input(\"Enter the first integer number: \"))\n",
        "second_num = int(input(\"Enter the second integer number: \"))\n",
        "\n",
        "sum = first_num + second_num\n",
        "difference = first_num - second_num\n",
        "product = first_num * second_num\n",
        "quotient = first_num // second_num\n",
        "\n",
        "print(\"The sum is %d\" % sum)\n",
        "print(\"The difference is %d\" % difference)\n",
        "print(\"The product is %d\" % product)\n",
        "print(\"The quotient is %d\" % quotient)"
      ],
      "metadata": {
        "colab": {
          "base_uri": "https://localhost:8080/"
        },
        "id": "ZPf-kjulhzXf",
        "outputId": "7aae1e76-f76c-4d70-e27b-cf217556a0be"
      },
      "execution_count": 30,
      "outputs": [
        {
          "output_type": "stream",
          "name": "stdout",
          "text": [
            "Enter the first integer number: 8\n",
            "Enter the second integer number: 22\n",
            "The sum is 30\n",
            "The difference is -14\n",
            "The product is 176\n",
            "The quotient is 0\n"
          ]
        }
      ]
    },
    {
      "cell_type": "markdown",
      "source": [
        "Question 9"
      ],
      "metadata": {
        "id": "J_v9G9lqjfwW"
      }
    },
    {
      "cell_type": "code",
      "source": [
        "first = int(input(\"Enter the first number: \"))\n",
        "second = int(input(\"Enter the second number: \"))\n",
        "third = int(input(\"Enter the third number: \"))\n",
        "fourth = int(input(\"Enter the fourth number: \"))\n",
        "fifth = int(input(\"Enter the fifth number: \"))\n",
        "sixth = int(input(\"Enter the sixth number: \"))\n",
        "\n",
        "print(f\"Reverse order of {first} {second} {third} {fourth} {fifth} {sixth} --> {sixth} {fifth} {fourth} {third} {second} {first}\")"
      ],
      "metadata": {
        "colab": {
          "base_uri": "https://localhost:8080/"
        },
        "id": "XtQ0McpCjffU",
        "outputId": "40e341bd-54d4-4cb0-fd89-5e679e566fc8"
      },
      "execution_count": 31,
      "outputs": [
        {
          "output_type": "stream",
          "name": "stdout",
          "text": [
            "Enter the first number: 1\n",
            "Enter the second number: 2\n",
            "Enter the third number: 3\n",
            "Enter the fourth number: 4\n",
            "Enter the fifth number: 5\n",
            "Enter the sixth number: 6\n",
            "Reverse order of 1 2 3 4 5 6 --> 6 5 4 3 2 1\n"
          ]
        }
      ]
    },
    {
      "cell_type": "markdown",
      "source": [
        "Question 10"
      ],
      "metadata": {
        "id": "Ibh8Zuu9k3L9"
      }
    },
    {
      "cell_type": "code",
      "source": [
        "grade_ITS100 = float(input(\"enter grade from ITS100: \"))\n",
        "grade_EL171 = float(input(\"enter grade from EL171: \"))\n",
        "grade_SCS183 = float(input(\"enter grade from SCS183P: \"))\n",
        "\n",
        "gpa = (grade_ITS100 * 3 + grade_EL171 * 3 + grade_SCS183 * 1) / (3+3+1)\n",
        "\n",
        "print(\"Your GPA is %.2f\" % gpa)"
      ],
      "metadata": {
        "colab": {
          "base_uri": "https://localhost:8080/"
        },
        "id": "I7uCF5ONk4t4",
        "outputId": "40c63aec-5768-4f46-dc14-8373d4a3e723"
      },
      "execution_count": 35,
      "outputs": [
        {
          "output_type": "stream",
          "name": "stdout",
          "text": [
            "enter grade from ITS100: 3\n",
            "enter grade from EL171: 3.5\n",
            "enter grade from SCS183P: 3.5\n",
            "Your GPA is 3.29\n"
          ]
        }
      ]
    }
  ]
}